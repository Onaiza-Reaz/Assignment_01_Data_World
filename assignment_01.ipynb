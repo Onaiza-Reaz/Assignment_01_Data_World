{
 "cells": [
  {
   "cell_type": "markdown",
   "metadata": {
    "id": "bb0O0xtk1v9t"
   },
   "source": [
    "## Task 01:\n",
    "\n",
    "Print Your Name with your Father name and Date of birth using suitable escape sequence charactor\n",
    "\n"
   ]
  },
  {
   "cell_type": "code",
   "execution_count": 6,
   "metadata": {
    "id": "U7LLGIkO2Ixa"
   },
   "outputs": [
    {
     "name": "stdout",
     "output_type": "stream",
     "text": [
      "My Name:  Onaiza Reaz \n",
      "My Father Name:  Muhammad Reaz-ud-din Qureshi \n",
      "My Birth Date 11-01-2002\n"
     ]
    }
   ],
   "source": [
    "name=\"Onaiza Reaz\"\n",
    "father_name=\"Muhammad Reaz-ud-din Qureshi\"\n",
    "birth_date=\"11-01-2002\"\n",
    "print(\"My Name: \",name,\"\\nMy Father Name: \",father_name,\"\\nMy Birth Date\",birth_date)"
   ]
  },
  {
   "cell_type": "markdown",
   "metadata": {
    "id": "TU-xwiLV2NgB"
   },
   "source": [
    "# Task 02:\n",
    "\n",
    "Write your small bio using variables and print it using print function"
   ]
  },
  {
   "cell_type": "code",
   "execution_count": 7,
   "metadata": {
    "id": "Dw8w3rwl2wDB"
   },
   "outputs": [
    {
     "name": "stdout",
     "output_type": "stream",
     "text": [
      "My name is  Onaiza Reaz . I am  Computer Science 3rd Year student in NED University of Engineering and Technology\n"
     ]
    }
   ],
   "source": [
    "name=\"Onaiza Reaz\"\n",
    "university=\"NED University of Engineering and Technology\"\n",
    "year=\"3rd Year\"\n",
    "domain=\"Computer Science\"\n",
    "print(\"My name is \",name,\". I am \",domain,year,\"student in\",university)"
   ]
  },
  {
   "cell_type": "markdown",
   "metadata": {
    "id": "F2lcZuDe2ztv"
   },
   "source": [
    "# Task 03:\n",
    "\n",
    "Write a program in which use all the operators we can use in Python"
   ]
  },
  {
   "cell_type": "code",
   "execution_count": 9,
   "metadata": {
    "id": "lEJhzsXh3e7K"
   },
   "outputs": [
    {
     "name": "stdout",
     "output_type": "stream",
     "text": [
      "Adding:  27\n",
      "Subtracting:  3\n",
      "Multiplication:  180\n",
      "Division:  1.25\n",
      "Modulus:  3\n"
     ]
    }
   ],
   "source": [
    "x=15\n",
    "y=12\n",
    "print(\"Adding: \",x+y)\n",
    "print(\"Subtracting: \",x-y)\n",
    "print(\"Multiplication: \",x*y)\n",
    "print(\"Division: \",x/y)\n",
    "print(\"Modulus: \",x%y)"
   ]
  },
  {
   "cell_type": "markdown",
   "metadata": {
    "id": "i4N14TJU3l7n"
   },
   "source": [
    "# Task 04:\n",
    "\n",
    "\n",
    "1. Mention Marks of English , Islamiat and Maths out of 100 in 3 different variables\n",
    "\n",
    "2. Mention Variable of Total Marks and assign 300 to it\n",
    "\n",
    "3. Calculate Percentage"
   ]
  },
  {
   "cell_type": "code",
   "execution_count": 10,
   "metadata": {
    "id": "nxojzvRg5PP4"
   },
   "outputs": [
    {
     "name": "stdout",
     "output_type": "stream",
     "text": [
      "85.66666666666667\n"
     ]
    }
   ],
   "source": [
    "english=89\n",
    "islamiat=90\n",
    "maths=78\n",
    "total_marks=300\n",
    "obtain_marks=english+islamiat+maths\n",
    "percentage=(obtain_marks/total_marks)*100\n",
    "print(percentage)"
   ]
  },
  {
   "cell_type": "code",
   "execution_count": null,
   "metadata": {},
   "outputs": [],
   "source": []
  }
 ],
 "metadata": {
  "colab": {
   "provenance": []
  },
  "kernelspec": {
   "display_name": "Python 3 (ipykernel)",
   "language": "python",
   "name": "python3"
  },
  "language_info": {
   "codemirror_mode": {
    "name": "ipython",
    "version": 3
   },
   "file_extension": ".py",
   "mimetype": "text/x-python",
   "name": "python",
   "nbconvert_exporter": "python",
   "pygments_lexer": "ipython3",
   "version": "3.11.5"
  }
 },
 "nbformat": 4,
 "nbformat_minor": 1
}
