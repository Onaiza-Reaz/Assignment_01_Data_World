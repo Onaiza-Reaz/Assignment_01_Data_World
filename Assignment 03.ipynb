{
 "cells": [
  {
   "cell_type": "markdown",
   "metadata": {},
   "source": [
    "1) A company decided to give bonus of 5% to employee if his/her year of service is more than 5 years.\n",
    "Ask user for their salary and year of service and print the net bonus amount."
   ]
  },
  {
   "cell_type": "code",
   "execution_count": 4,
   "metadata": {},
   "outputs": [
    {
     "name": "stdout",
     "output_type": "stream",
     "text": [
      "Enter Your Salary: 3554\n",
      "Enter Your Year of Service: 3\n",
      "No Bonus\n"
     ]
    }
   ],
   "source": [
    "salary=float(input(\"Enter Your Salary: \"))\n",
    "year=int(input(\"Enter Your Year of Service: \"))\n",
    "if(year>5):\n",
    "    bonus= salary*0.05\n",
    "    print(\"You Got Bonus of \",bonus)\n",
    "else:\n",
    "    print(\"No Bonus\")"
   ]
  },
  {
   "cell_type": "markdown",
   "metadata": {},
   "source": [
    "\n",
    "2) Write a program to check whether a person is eligible for voting or not. (accept age from user) if age is greater than 17 eligible otherwise not eligible"
   ]
  },
  {
   "cell_type": "code",
   "execution_count": 6,
   "metadata": {},
   "outputs": [
    {
     "name": "stdout",
     "output_type": "stream",
     "text": [
      "Enter Your age: 18\n",
      "You are eligible for vote\n"
     ]
    }
   ],
   "source": [
    "age=int(input(\"Enter Your age: \"))\n",
    "if(age>17):\n",
    "    print(\"You are eligible for vote\")\n",
    "else:\n",
    "    print(\"You are not eligible for vote\")"
   ]
  },
  {
   "cell_type": "markdown",
   "metadata": {},
   "source": [
    "\n",
    "3) Write a program to check whether a number entered by user is even or odd."
   ]
  },
  {
   "cell_type": "code",
   "execution_count": 10,
   "metadata": {},
   "outputs": [
    {
     "name": "stdout",
     "output_type": "stream",
     "text": [
      "Enter any number: 90\n",
      "90  is Even\n"
     ]
    }
   ],
   "source": [
    "number=int(input(\"Enter any number: \"))\n",
    "if(number%2==0):\n",
    "    print(number,\" is Even\")\n",
    "else:\n",
    "    print(number,\" is Odd\")"
   ]
  },
  {
   "cell_type": "markdown",
   "metadata": {},
   "source": [
    " 4) Write a program to check whether a number is divisible by 7 or not.\n",
    " Show Answer"
   ]
  },
  {
   "cell_type": "code",
   "execution_count": 12,
   "metadata": {},
   "outputs": [
    {
     "name": "stdout",
     "output_type": "stream",
     "text": [
      "Enter any number: 14\n",
      "14  is Divisible by 7\n"
     ]
    }
   ],
   "source": [
    "number=int(input(\"Enter any number: \"))\n",
    "if(number%7==0):\n",
    "    print(number,\" is Divisible by 7\")\n",
    "else:\n",
    "    print(number,\" is not Divisible by 7\")"
   ]
  },
  {
   "cell_type": "markdown",
   "metadata": {},
   "source": [
    "5) Write a program to display \n",
    "\"Hello\" if a number entered by user is a multiple of five , otherwise print \"Bye\"."
   ]
  },
  {
   "cell_type": "code",
   "execution_count": 14,
   "metadata": {},
   "outputs": [
    {
     "name": "stdout",
     "output_type": "stream",
     "text": [
      "Enter Number: 23\n",
      "Bye\n"
     ]
    }
   ],
   "source": [
    "number=int(input(\"Enter Number: \"))\n",
    "if(number%5==0):\n",
    "    print(\"Hello\")\n",
    "else:\n",
    "    print(\"Bye\")"
   ]
  },
  {
   "cell_type": "markdown",
   "metadata": {},
   "source": [
    "7) Write a program to display the last digit of a number.\n"
   ]
  },
  {
   "cell_type": "code",
   "execution_count": 3,
   "metadata": {},
   "outputs": [
    {
     "name": "stdout",
     "output_type": "stream",
     "text": [
      "Enter Number: 23456\n",
      "6\n"
     ]
    }
   ],
   "source": [
    "number=int(input(\"Enter Number: \"))  \n",
    "last_digit = number % 10\n",
    "print(last_digit)\n"
   ]
  },
  {
   "cell_type": "markdown",
   "metadata": {},
   "source": [
    "9) Take values of length and breadth of a rectangle from user and print if it is square or rectangle."
   ]
  },
  {
   "cell_type": "code",
   "execution_count": 25,
   "metadata": {},
   "outputs": [
    {
     "name": "stdout",
     "output_type": "stream",
     "text": [
      "Enter the Length: 23\n",
      "Enter the Breadth: 23\n",
      "It is a square.\n"
     ]
    }
   ],
   "source": [
    "length=float(input(\"Enter the Length: \"))\n",
    "breadth=float(input(\"Enter the Breadth: \"))\n",
    "if length == breadth:\n",
    "    print(\"It is a square.\")\n",
    "else:\n",
    "    print(\"It is a rectangle.\")"
   ]
  },
  {
   "cell_type": "markdown",
   "metadata": {},
   "source": [
    "10) Take two int values from user and print greatest among them."
   ]
  },
  {
   "cell_type": "code",
   "execution_count": 5,
   "metadata": {},
   "outputs": [
    {
     "name": "stdout",
     "output_type": "stream",
     "text": [
      "Enter first Number1234\n",
      "Enter second Number4567\n",
      "4567\n"
     ]
    }
   ],
   "source": [
    "int1= int(input(\"Enter first Number\"))\n",
    "int2=int(input(\"Enter second Number\"))\n",
    "if(int1>int2):\n",
    "    print(int1)\n",
    "else:\n",
    "    print(int2)"
   ]
  },
  {
   "cell_type": "markdown",
   "metadata": {},
   "source": [
    "11) A shop will give discount of 10% if the cost of purchased quantity is more than 1000.\n",
    "Ask user for quantity\n",
    "Suppose, one unit will cost 100.\n",
    "Judge and print total cost for user."
   ]
  },
  {
   "cell_type": "code",
   "execution_count": 8,
   "metadata": {},
   "outputs": [
    {
     "name": "stdout",
     "output_type": "stream",
     "text": [
      "Enter the Quantity: 234\n",
      "Congratulations! You got discount of  21060.0\n"
     ]
    }
   ],
   "source": [
    "quantity=int(input(\"Enter the Quantity: \"))\n",
    "price=quantity*100\n",
    "if(price>1000):\n",
    "    discount=price*0.1\n",
    "    final_price=price-discount\n",
    "    print(\"Congratulations! You got discount of \",final_price)\n",
    "else:\n",
    "    print(\"Sorry, you got no discount\")"
   ]
  },
  {
   "cell_type": "markdown",
   "metadata": {},
   "source": [
    "12) A school has following rules for grading system:\n",
    "\n",
    "a. Below 25 - F\n",
    "\n",
    "b. 25 to 45 - E\n",
    "\n",
    "c. 45 to 50 - D\n",
    "\n",
    "d. 50 to 60 - C\n",
    "\n",
    "e. 60 to 80 - B\n",
    "\n",
    "f. Above 80 - A\n",
    "\n",
    "Ask user to enter marks and print the corresponding grade."
   ]
  },
  {
   "cell_type": "code",
   "execution_count": 14,
   "metadata": {},
   "outputs": [
    {
     "name": "stdout",
     "output_type": "stream",
     "text": [
      "Enter your marks: 56\n",
      "Grade C\n"
     ]
    }
   ],
   "source": [
    "marks = int(input(\"Enter your marks: \"))\n",
    "\n",
    "if marks >= 80:\n",
    "    print(\"Grade A\")\n",
    "elif marks >= 60: \n",
    "    print(\"Grade B\")\n",
    "elif marks >= 50:  \n",
    "    print(\"Grade C\")\n",
    "elif marks >= 45:  \n",
    "    print(\"Grade D\")\n",
    "else:  \n",
    "    print(\"Grade F\")  \n"
   ]
  },
  {
   "cell_type": "markdown",
   "metadata": {},
   "source": [
    "14)A student will not be allowed to sit in exam if his/her attendence is less than 75%.\n",
    "\n",
    "Take following input from user\n",
    "\n",
    "Number of classes held\n",
    "\n",
    "Number of classes attended.\n",
    "\n",
    "And print\n",
    "\n",
    "percentage of class attended\n",
    "\n",
    "Is student is allowed to sit in exam or not.\n"
   ]
  },
  {
   "cell_type": "code",
   "execution_count": 17,
   "metadata": {},
   "outputs": [
    {
     "name": "stdout",
     "output_type": "stream",
     "text": [
      "Enter total number of classes: 34\n",
      "Enter attended classes: 12\n",
      "You are not allowed to sit in Exam\n",
      "Your Attendance is 35.29 %\n"
     ]
    }
   ],
   "source": [
    "total_classes=int(input(\"Enter total number of classes: \"))\n",
    "attend_classes=int(input(\"Enter attended classes: \"))\n",
    "percent=(attend_classes/total_classes)*100\n",
    "if(percent<75):\n",
    "    print(\"You are not allowed to sit in Exam\\nYour Attendance is\",round(percent,2),\"%\")\n",
    "else:\n",
    "    print(\"You can sit in Exam\")"
   ]
  },
  {
   "cell_type": "markdown",
   "metadata": {},
   "source": [
    "15) Modify the above question to allow student to sit if he/she has medical cause. Ask user if he/she has medical cause or not ( 'Y' or 'N' ) and print accordingly."
   ]
  },
  {
   "cell_type": "code",
   "execution_count": 19,
   "metadata": {},
   "outputs": [
    {
     "name": "stdout",
     "output_type": "stream",
     "text": [
      "Enter total number of classes: 45\n",
      "Enter attended classes: 44\n",
      "Enter Y if you have medical sickness\n",
      "If you not sick then enter N:  N\n",
      "You can sit in Exam\n"
     ]
    }
   ],
   "source": [
    "total_classes=int(input(\"Enter total number of classes: \"))\n",
    "attend_classes=int(input(\"Enter attended classes: \"))\n",
    "percent=(attend_classes/total_classes)*100\n",
    "sickness=str(input(\"Enter Y if you have medical sickness\\nIf you not sick then enter N:  \"))\n",
    "if(sickness==\"Y\"):\n",
    "    print(\"You are allowed to sit in Exam\")\n",
    "else:\n",
    "    if(percent<75):\n",
    "        print(\"You are not allowed to sit in Exam\\nYour Attendance is\",round(percent,2),\"%\")\n",
    "    else:\n",
    "        print(\"You can sit in Exam\")"
   ]
  },
  {
   "cell_type": "markdown",
   "metadata": {},
   "source": [
    "16) Write a program to check if a year is leap year or not.\n",
    "\n",
    "If a year is divisible by 4 then it is leap year but if the year is century year like 2000, 1900, 2100 then it must be divisible by 400."
   ]
  },
  {
   "cell_type": "code",
   "execution_count": 20,
   "metadata": {},
   "outputs": [
    {
     "name": "stdout",
     "output_type": "stream",
     "text": [
      "Enter a year: 2100\n",
      "2100 is not a leap year.\n"
     ]
    }
   ],
   "source": [
    "year = int(input(\"Enter a year: \"))\n",
    "is_leap_year = (year % 4 == 0 and year % 100 != 0) or year % 400 == 0\n",
    "if is_leap_year:\n",
    "  print(year,\"is a leap year.\")\n",
    "else:\n",
    "  print(year,\"is not a leap year.\")\n"
   ]
  },
  {
   "cell_type": "markdown",
   "metadata": {},
   "source": [
    "17) Ask user to enter age, gender ( M or F ), marital status ( Y or N ) and then using following rules print their place of service.\n",
    "\n",
    "if employee is female, then she will work only in urban areas.\n",
    "\n",
    "if employee is a male and age is in between 20 to 40 then he may work in anywhere\n",
    "\n",
    "if employee is male and age is in between 40 t0 60 then he will work in urban areas only.\n",
    "\n",
    "And any other input of age should print \"ERROR\""
   ]
  },
  {
   "cell_type": "code",
   "execution_count": 23,
   "metadata": {},
   "outputs": [
    {
     "name": "stdout",
     "output_type": "stream",
     "text": [
      "Enter age: 23\n",
      "Enter gender (M or F): f\n",
      "Enter marital status (Y or N): y\n",
      "Place of service: Urban areas\n"
     ]
    }
   ],
   "source": [
    "age = input(\"Enter age: \")\n",
    "gender = input(\"Enter gender (M or F): \").upper()\n",
    "marital_status = input(\"Enter marital status (Y or N): \").upper()\n",
    "age = int(age)\n",
    "if gender == 'F':\n",
    "    print(\"Place of service: Urban areas\")\n",
    "elif gender == 'M':\n",
    "    if 20 <= age <= 40:\n",
    "        print(\"Place of service: Anywhere\")\n",
    "    elif 40 <= age <= 60:\n",
    "        print(\"Place of service: Urban areas\")\n",
    "    else:\n",
    "        print(\"ERROR\")\n",
    "else:\n",
    "    print(\"ERROR\")\n"
   ]
  },
  {
   "cell_type": "code",
   "execution_count": null,
   "metadata": {},
   "outputs": [],
   "source": []
  },
  {
   "cell_type": "markdown",
   "metadata": {},
   "source": [
    "6) Write a program to calculate the electricity bill (accept number of unit from user) according to the following criteria :\n",
    "     Unit                                                     Price  \n",
    "uptp 100 units                                             no charge\n",
    "Next 200 units                                              Rs 5 per unit\n",
    "After 200 units                                             Rs 10 per unit\n",
    "(For example if input unit is 350 than total bill amount is Rs.3500\n",
    "(For example if input unit is 97 than total bill amount is Rs.0\n",
    "(For example if input unit is 150 than total bill amount is Rs.750"
   ]
  },
  {
   "cell_type": "markdown",
   "metadata": {},
   "source": [
    "13) Take input of age of 3 people by user and determine oldest and youngest among them."
   ]
  },
  {
   "cell_type": "code",
   "execution_count": 24,
   "metadata": {},
   "outputs": [
    {
     "name": "stdout",
     "output_type": "stream",
     "text": [
      "Enter the number of units: 150\n",
      "Total bill amount is:  250\n"
     ]
    }
   ],
   "source": [
    "units = int(input(\"Enter the number of units: \"))\n",
    "total_bill = 0\n",
    "if units <= 100:\n",
    "    total_bill = 0\n",
    "elif units <= 300:\n",
    "    total_bill = (units - 100) * 5\n",
    "elif units > 300:\n",
    "    total_bill = 200 * 5 + (units - 300) * 10\n",
    "print(\"Total bill amount is: \",total_bill)\n"
   ]
  },
  {
   "cell_type": "code",
   "execution_count": null,
   "metadata": {},
   "outputs": [],
   "source": []
  }
 ],
 "metadata": {
  "kernelspec": {
   "display_name": "Python 3 (ipykernel)",
   "language": "python",
   "name": "python3"
  },
  "language_info": {
   "codemirror_mode": {
    "name": "ipython",
    "version": 3
   },
   "file_extension": ".py",
   "mimetype": "text/x-python",
   "name": "python",
   "nbconvert_exporter": "python",
   "pygments_lexer": "ipython3",
   "version": "3.11.5"
  }
 },
 "nbformat": 4,
 "nbformat_minor": 2
}
